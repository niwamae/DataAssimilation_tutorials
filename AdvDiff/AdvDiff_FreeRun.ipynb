{
 "cells": [
  {
   "cell_type": "markdown",
   "metadata": {},
   "source": [
    "# 同化なしのアンサンブル計算"
   ]
  },
  {
   "cell_type": "markdown",
   "metadata": {},
   "source": [
    "このノートブックでは，外力に乱数ノイズを与えた50メンバーのアンサンブル計算を観測値への同化なしで行う。"
   ]
  },
  {
   "cell_type": "code",
   "execution_count": null,
   "metadata": {},
   "outputs": [],
   "source": [
    "%matplotlib inline\n",
    "%config InlineBackend.figure_format = 'svg'\n",
    "\n",
    "import numpy as np\n",
    "import matplotlib as mpl\n",
    "import matplotlib.pyplot as plt\n",
    "from scipy import interpolate\n",
    "import advdiff\n",
    "\n",
    "mpl.rcParams['font.family'] = 'serif'\n",
    "mpl.rcParams['mathtext.fontset'] = 'cm'"
   ]
  },
  {
   "cell_type": "markdown",
   "metadata": {},
   "source": [
    "----"
   ]
  },
  {
   "cell_type": "markdown",
   "metadata": {},
   "source": [
    "## シミュレーション"
   ]
  },
  {
   "cell_type": "code",
   "execution_count": null,
   "metadata": {},
   "outputs": [],
   "source": [
    "params = {\n",
    "    'nx': 40,\n",
    "    'dx': 10.0,\n",
    "    'dt': 0.5,\n",
    "    'u': 2.0,\n",
    "    'nu': 5.0,\n",
    "    'freq_euler': 15\n",
    "}"
   ]
  },
  {
   "cell_type": "code",
   "execution_count": null,
   "metadata": {},
   "outputs": [],
   "source": [
    "# 外力項を与える関数の設定\n",
    "# 時刻を引数として呼び出すと各格子点における外力の値を返す\n",
    "x = np.arange(params['nx']) * params['dx']\n",
    "\n",
    "#\n",
    "frc_x = np.sin(np.pi * x / 60.) * np.where(x < 60., 1.,  0.)\n",
    "frc_t = lambda t: np.sin(2. * np.pi * t / 120.)"
   ]
  },
  {
   "cell_type": "code",
   "execution_count": null,
   "metadata": {},
   "outputs": [],
   "source": [
    "nt = 1200\n",
    "freq_out = 15\n",
    "n_ensemble = 10 # number of ensemble members\n",
    "\n",
    "model = advdiff.EnsembleModel(n_ensemble, **params)\n",
    "\n",
    "vda = [model.data]\n",
    "\n",
    "for it in range(nt):\n",
    "    _t = it * model.dt\n",
    "    _ft = frc_t(_t) + np.random.normal(loc=0.0, scale=2.0, size=model.n_ensemble)\n",
    "    frc = _ft.reshape((-1,1)) @ frc_x.reshape((1,-1))\n",
    "    model.step_forward(force=frc)\n",
    "    if model.it % freq_out == 0:\n",
    "        vda.append(model.data)\n",
    "\n",
    "vda = np.array(vda)"
   ]
  },
  {
   "cell_type": "markdown",
   "metadata": {},
   "source": [
    "## 結果のプロット"
   ]
  },
  {
   "cell_type": "code",
   "execution_count": null,
   "metadata": {},
   "outputs": [],
   "source": [
    "# 真値の読み込み\n",
    "vt = np.loadtxt('./data/state_true.dat')"
   ]
  },
  {
   "cell_type": "code",
   "execution_count": null,
   "metadata": {},
   "outputs": [],
   "source": [
    "it = 18\n",
    "\n",
    "fig, ax = plt.subplots(figsize=(8,3))\n",
    "plt.plot(x, vt[it,:], '-', c='C0', lw=2, label='True')\n",
    "for iens in range(n_ensemble):\n",
    "    label = 'Simulation' if iens == 0 else '__nolegend__'\n",
    "    plt.plot(x, vda[it,iens,:], '-', c='C1', lw=0.5, label=label)\n",
    "plt.xlim(0, 400)\n",
    "plt.ylim(-40, 40)\n",
    "plt.xlabel(r'$x$ [km]')\n",
    "plt.ylabel(r'$C$')\n",
    "plt.legend(loc='lower right', framealpha=0.7)\n",
    "plt.grid(ls='--', c='0.5', lw=0.3)\n",
    "plt.title(r'Free Run ($t={:4.1f}$)'.format(it * 7.5))\n",
    "plt.tight_layout()"
   ]
  }
 ],
 "metadata": {
  "kernelspec": {
   "display_name": "Python 3",
   "language": "python",
   "name": "python3"
  },
  "language_info": {
   "codemirror_mode": {
    "name": "ipython",
    "version": 3
   },
   "file_extension": ".py",
   "mimetype": "text/x-python",
   "name": "python",
   "nbconvert_exporter": "python",
   "pygments_lexer": "ipython3",
   "version": "3.6.6"
  }
 },
 "nbformat": 4,
 "nbformat_minor": 2
}
