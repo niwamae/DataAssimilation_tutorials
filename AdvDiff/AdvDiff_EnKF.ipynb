{
 "cells": [
  {
   "cell_type": "markdown",
   "metadata": {},
   "source": [
    "# アンサンブルカルマンフィルタによるデータ同化"
   ]
  },
  {
   "cell_type": "markdown",
   "metadata": {},
   "source": [
    "このノートブックでは，01FreeRun と同様に異なる外力を与えた50メンバーのアンサンブル計算を行い，アンサンブルカルマンフィルタにより観測値を同化する。観測データは187.5秒から7.5秒おきに40グリッド中の8グリッドで与えられる。観測データは，データファイル **obs_noise.dat** から読み込む。"
   ]
  },
  {
   "cell_type": "code",
   "execution_count": null,
   "metadata": {},
   "outputs": [],
   "source": [
    "%matplotlib inline\n",
    "%config InlineBackend.figure_format = 'svg'\n",
    "\n",
    "import numpy as np\n",
    "import matplotlib as mpl\n",
    "import matplotlib.pyplot as plt\n",
    "import advdiff\n",
    "\n",
    "mpl.rcParams['font.family'] = 'serif'\n",
    "mpl.rcParams['mathtext.fontset'] = 'cm'"
   ]
  },
  {
   "cell_type": "markdown",
   "metadata": {},
   "source": [
    "----"
   ]
  },
  {
   "cell_type": "markdown",
   "metadata": {},
   "source": [
    "## シミュレーション＆同化"
   ]
  },
  {
   "cell_type": "code",
   "execution_count": null,
   "metadata": {},
   "outputs": [],
   "source": [
    "params = {\n",
    "    'nx': 40,\n",
    "    'dx': 10.0,\n",
    "    'dt': 0.5,\n",
    "    'u': 2.0,\n",
    "    'nu': 5.0,\n",
    "    'freq_euler': 15\n",
    "}"
   ]
  },
  {
   "cell_type": "code",
   "execution_count": null,
   "metadata": {},
   "outputs": [],
   "source": [
    "# 外力項を与える関数の設定\n",
    "# 時刻を引数として呼び出すと各格子点における外力の値を返す\n",
    "x = np.arange(params['nx']) * params['dx']\n",
    "\n",
    "#\n",
    "frc_x = np.sin(np.pi * x / 60.) * np.where(x < 60., 1.,  0.)\n",
    "frc_t = lambda t: np.sin(2. * np.pi * t / 120.)"
   ]
  },
  {
   "cell_type": "code",
   "execution_count": null,
   "metadata": {},
   "outputs": [],
   "source": [
    "vo = np.loadtxt('./data/state_obs.dat')"
   ]
  },
  {
   "cell_type": "code",
   "execution_count": null,
   "metadata": {},
   "outputs": [],
   "source": [
    "nt = 1200\n",
    "freq_out = 15\n",
    "n_ensemble = 100\n",
    "\n",
    "it = np.arange(nt+1, dtype=np.int64)\n",
    "mask_obs = (it >= 375) & (it % 15 == 0)"
   ]
  },
  {
   "cell_type": "code",
   "execution_count": null,
   "metadata": {},
   "outputs": [],
   "source": [
    "H = np.zeros((8,40))\n",
    "for i, j in enumerate([16, 18, 20, 22, 24, 26, 28, 30]):\n",
    "    H[i,j] = 1.0"
   ]
  },
  {
   "cell_type": "code",
   "execution_count": null,
   "metadata": {},
   "outputs": [],
   "source": [
    "class EnsembleKalmanFilter:\n",
    "    \n",
    "    def __init__(self, ensemble, H, obs, noise):\n",
    "        self.ensemble = ensemble\n",
    "        self.H = H\n",
    "        self.obs = obs.reshape((-1,1))\n",
    "        self.noise = noise\n",
    "        self.R = np.identity(len(obs)) * self.noise * self.noise\n",
    "    \n",
    "    def fit(self):\n",
    "        P = np.cov(self.ensemble, rowvar=False, bias=False) # (40,40)\n",
    "        A = np.linalg.inv(self.R + self.H @ P @ self.H.T)   # (8,8)\n",
    "        K = P @ self.H.T @ A                                # (40,8)\n",
    "        d = self.obs - self.H @ self.ensemble.T             # (8,nens)\n",
    "        update = (K @ d).T                             # (nens,40)\n",
    "        return update"
   ]
  },
  {
   "cell_type": "code",
   "execution_count": null,
   "metadata": {},
   "outputs": [],
   "source": [
    "model = advdiff.EnsembleModel(n_ensemble, **params)\n",
    "\n",
    "vda = [model.data]\n",
    "\n",
    "for it in range(nt):\n",
    "    _t = it * model.dt\n",
    "    _ft = frc_t(_t) + np.random.normal(loc=0.0, scale=4.0, size=model.n_ensemble)\n",
    "    frc = _ft.reshape((-1,1)) @ frc_x.reshape((1,-1))\n",
    "    model.step_forward(force=frc)\n",
    "    if mask_obs[it+1]:\n",
    "        enkf = EnsembleKalmanFilter(model.data, H, vo[(it+1)//15,:], noise=4.0)\n",
    "        update = enkf.fit()\n",
    "        model.data = model.data + update\n",
    "    if model.it % freq_out == 0:\n",
    "        vda.append(model.data)\n",
    "\n",
    "vda = np.array(vda)"
   ]
  },
  {
   "cell_type": "code",
   "execution_count": null,
   "metadata": {},
   "outputs": [],
   "source": [
    "# 真値の読み込み\n",
    "vt = np.loadtxt('./data/state_true.dat')\n",
    "vs = np.loadtxt('./data/state_sim.dat')"
   ]
  },
  {
   "cell_type": "code",
   "execution_count": null,
   "metadata": {},
   "outputs": [],
   "source": [
    "it = 70\n",
    "\n",
    "fig, ax = plt.subplots(figsize=(8,3))\n",
    "plt.plot(x, vt[it,:], '-', c='C0', lw=2, label='True')\n",
    "plt.plot(x, vs[it,:], '-', c='C1', lw=2, label='Simulation')\n",
    "plt.plot(x, vda[it,:,:].mean(axis=0), '-', c='C3', label='DA')\n",
    "plt.plot(x @ H.T, vo[it,:], '^', c='C2', label='Observation')\n",
    "#for iens in range(n_ensemble):\n",
    "#    label = 'Simulation' if iens == 0 else '__nolegend__'\n",
    "#    plt.plot(x, vda[it,iens,:], '-', c='C2', lw=0.5, label=label)\n",
    "plt.xlim(0, 400)\n",
    "plt.ylim(-40, 40)\n",
    "plt.xlabel(r'$x$ [km]')\n",
    "plt.ylabel(r'$C$')\n",
    "plt.legend(loc='lower right', framealpha=0.7)\n",
    "plt.grid(ls='--', c='0.5', lw=0.3)\n",
    "plt.title(r'Free Run ($t={:4.1f}$)'.format(it * 7.5))\n",
    "plt.tight_layout()"
   ]
  },
  {
   "cell_type": "code",
   "execution_count": null,
   "metadata": {},
   "outputs": [],
   "source": []
  },
  {
   "cell_type": "markdown",
   "metadata": {},
   "source": [
    "アンサンブルメンバーの数を指定"
   ]
  },
  {
   "cell_type": "code",
   "execution_count": null,
   "metadata": {},
   "outputs": [],
   "source": [
    "n_ensemble = 50"
   ]
  },
  {
   "cell_type": "markdown",
   "metadata": {},
   "source": [
    "外力の設定：外力は7.5秒おきの値を線形補間することにより求める。$i$ 番目のアンサンブルメンバーに対する時刻 $t$ における外力項は，<code>frc_t\\[i\\](t) * frc_x</code> により計算される（格子数と同サイズの配列）。"
   ]
  },
  {
   "cell_type": "code",
   "execution_count": null,
   "metadata": {},
   "outputs": [],
   "source": [
    "frc_noise = np.fromfile('./data/noise/frc_noise.dat', dtype=np.float64, count=n_enesemble * ad.nt_out).reshape((n_ensemble, ad.nt_out))\n",
    "\n",
    "x = ad.x\n",
    "t = np.arange(ad.nt_out) * ad.dt_out\n",
    "frc_x = np.sin(np.pi * x / 60.) * np.where(x < 60., 1.,  0.)\n",
    "frc_t = np.sin(2. * np.pi * t / 120.)\n",
    "frc_t = [interpolate.interp1d(t, frc_t+frc_noise[i,:], kind='linear') for i in range(n_ensemble)]"
   ]
  },
  {
   "cell_type": "markdown",
   "metadata": {},
   "source": [
    "観測行列 <code>H</code>，観測誤差共分散行列 <code>R</code> の準備。"
   ]
  },
  {
   "cell_type": "code",
   "execution_count": null,
   "metadata": {},
   "outputs": [],
   "source": [
    "H = np.zeros((ad.nx_obs, ad.nx), dtype=np.float64)\n",
    "for i, j in enumerate(ad.pos_obs):\n",
    "    H[i,j] = 1.0\n",
    "\n",
    "R = np.identity(ad.nx_obs) * 8.0**2."
   ]
  },
  {
   "cell_type": "markdown",
   "metadata": {},
   "source": [
    "観測データの読み込み"
   ]
  },
  {
   "cell_type": "code",
   "execution_count": null,
   "metadata": {},
   "outputs": [],
   "source": [
    "v_obs = np.loadtxt('./data/state_obs.dat')"
   ]
  },
  {
   "cell_type": "markdown",
   "metadata": {},
   "source": [
    "出力の準備：各アンサンブルメンバーに対する計算結果は個別のファイル（./data/EnKF/state_??.dat）に出力する。"
   ]
  },
  {
   "cell_type": "code",
   "execution_count": null,
   "metadata": {},
   "outputs": [],
   "source": [
    "fps = [open('./data/EnKF/state_%02d.dat' % (i+1), 'w') for i in range(n_ensemble)]\n",
    "fmt = '%8.3f' * ad.nx"
   ]
  },
  {
   "cell_type": "markdown",
   "metadata": {},
   "source": [
    "計算の実行"
   ]
  },
  {
   "cell_type": "code",
   "execution_count": null,
   "metadata": {},
   "outputs": [],
   "source": [
    "model = ad.EnsembleSimulation(n_ensemble=n_ensemble)\n",
    "\n",
    "for i, fp in enumerate(fps):\n",
    "    print(fmt % tuple(model.data[i,:]), file=fp)\n",
    "\n",
    "for it in range(ad.nt):\n",
    "    tm = it * ad.dt\n",
    "    frc = np.array([frc_t[i](tm) * frc_x for i in range(n_ensemble)])\n",
    "    model.step_forward(force=frc)\n",
    "    if (model.it % ad.freq_obs == 0) & (model.it * ad.dt >= 187.5):\n",
    "        B = np.cov(model.data, rowvar=False, bias=False)\n",
    "        A = np.linalg.inv(R + H @ B @ H.T)\n",
    "        K = B @ H.T @ A\n",
    "        d = v_obs[model.it//ad.freq_out,:].reshape(-1,1) - H @ model.data.T\n",
    "        model.data = model.data + (K @ d).T\n",
    "    if model.it % ad.freq_out == 0:\n",
    "        for i, fp in enumerate(fps):\n",
    "            print(fmt % tuple(model.data[i,:]), file=fp) \n",
    "\n",
    "for fp in fps:\n",
    "    fp.close()"
   ]
  },
  {
   "cell_type": "markdown",
   "metadata": {},
   "source": [
    "## 結果のプロット"
   ]
  },
  {
   "cell_type": "code",
   "execution_count": null,
   "metadata": {},
   "outputs": [],
   "source": [
    "v_sim = [np.loadtxt('./data/EnKF/state_%02d.dat' % (i+1)) for i in range(n_ensemble)]\n",
    "v_true = np.loadtxt('./data/state_true.dat')"
   ]
  },
  {
   "cell_type": "code",
   "execution_count": null,
   "metadata": {},
   "outputs": [],
   "source": [
    "it = 60\n",
    "\n",
    "fig, ax = plt.subplots(figsize=(8,3))\n",
    "for i in range(n_ensemble):\n",
    "    label = 'simulation (free run)' if i == 0 else '__nolegend__'\n",
    "    plt.plot(x, v_sim[i][it,:], '-', c='0.6', lw=0.5, label=label)\n",
    "plt.plot(ad.x, v_true[it,:], '-', c='C3', lw=2.0, label='true')\n",
    "plt.plot(ad.x_obs, v_obs[it,:], '^', c='C0', ms=9, label='observation')\n",
    "plt.xlim(0, 400)\n",
    "plt.ylim(-40, 40)\n",
    "plt.xlabel(r'$x$ [km]')\n",
    "plt.ylabel(r'$C$')\n",
    "plt.legend(loc='lower right', framealpha=0.7)\n",
    "plt.grid(ls='--', c='0.5', lw=0.3)\n",
    "plt.title(r'EnKF ($t={:4.1f}$)'.format(it * 7.5))\n",
    "plt.tight_layout()"
   ]
  }
 ],
 "metadata": {
  "kernelspec": {
   "display_name": "Python 3",
   "language": "python",
   "name": "python3"
  },
  "language_info": {
   "codemirror_mode": {
    "name": "ipython",
    "version": 3
   },
   "file_extension": ".py",
   "mimetype": "text/x-python",
   "name": "python",
   "nbconvert_exporter": "python",
   "pygments_lexer": "ipython3",
   "version": "3.6.6"
  }
 },
 "nbformat": 4,
 "nbformat_minor": 2
}
