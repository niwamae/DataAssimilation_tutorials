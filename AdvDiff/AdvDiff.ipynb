{
 "cells": [
  {
   "cell_type": "markdown",
   "metadata": {},
   "source": [
    "# 一次元移流拡散モデル（2017年度中級編）\n",
    "\n",
    "## 本チュートリアルの内容\n",
    "\n",
    "### モデル\n",
    "\n",
    "2017年度中級編の課題であった一次元移流拡散モデル\n",
    "\n",
    "\\begin{equation}\n",
    "\\frac{\\partial C}{\\partial t} = -u\\frac{\\partial C}{\\partial x} + \\nu \\frac{\\partial^2 C}{\\partial x^2} + W\n",
    "\\end{equation}\n",
    "\n",
    "を対象とする。\n",
    "- $C$ はモデルで計算するトレーサー濃度（初期値 $C=0$）\n",
    "- $u$ は移流速度（$u=2.0$ で一定）\n",
    "- $\\nu$ は拡散係数（$\\nu = 5.0$ で一定）\n",
    "- $W$ は外力項であり，$0 < x < 60$ の範囲で，下式により与える。\n",
    "\\begin{equation}\n",
    "W\\left(x, t\\right) = F\\left(t\\right) \\sin\\frac{\\pi x}{60} = \n",
    "\\left[\\sin \\frac{2\\pi t}{120} + q\\left(t\\right)\\right]\\sin\\frac{\\pi x}{60}\n",
    "\\end{equation}\n",
    "ここで、$q$ は未知の物理を表わすパラメータで，平均 0，標準偏差 1.0 のガウス乱数とする（演習ではデータファイルで与えられる）。\n",
    "\n",
    "モデル領域は $0 \\le x \\le 400$ とし，格子間隔は $\\Delta x = 10$ とする。時間ステップは $\\Delta t=0.5$ とし，時間積分はリープフロッグ法により行う（計算モードを除去するため，15ステップに1度の頻度でオイラー法を用いる）。\n",
    "\n",
    "### 真値、シミュレーションと疑似観測\n",
    "\n",
    "- 真値<BR>\n",
    "上記の条件で $t=600$ まで時間積分する。データの出力は 15 ステップ（7.5秒）に1回。\n",
    "- シミュレーション<BR>\n",
    "外力項のうち未知の物理 $q\\left(t\\right) = 0$ とする。データの出力は 15 ステップ（7.5秒）に1回。\n",
    "- 疑似観測<BR>\n",
    "同化計算に用いる疑似観測値は、$x = 160, 180, 200, 220, 240, 260, 280, 300$ において、187.5秒（375ステップ）から7.5秒（15ステップ）ごとに与える。疑似観測値は、真値に観測誤差として標準偏差 8.0 のガウス乱数を加えたものとする。"
   ]
  },
  {
   "cell_type": "markdown",
   "metadata": {},
   "source": [
    "## プログラム"
   ]
  },
  {
   "cell_type": "markdown",
   "metadata": {},
   "source": [
    "### [1] 必要なモジュールのインポート"
   ]
  },
  {
   "cell_type": "code",
   "execution_count": null,
   "metadata": {},
   "outputs": [],
   "source": [
    "% matplotlib inline\n",
    "% config InlineBackend.figure_format = 'svg'\n",
    "\n",
    "import numpy as np\n",
    "import matplotlib as mpl\n",
    "import matplotlib.pyplot as plt\n",
    "from scipy import interpolate\n",
    "import advdiff\n",
    "import os\n",
    "\n",
    "mpl.rcParams['font.family'] = 'serif'\n",
    "mpl.rcParams['mathtext.fontset'] = 'cm'\n",
    "\n",
    "# 乱数シードの指定\n",
    "np.random.seed(7)"
   ]
  },
  {
   "cell_type": "markdown",
   "metadata": {},
   "source": [
    "### [2] モデルパラメータの設定"
   ]
  },
  {
   "cell_type": "code",
   "execution_count": null,
   "metadata": {},
   "outputs": [],
   "source": [
    "params = {\n",
    "    'nx': 40,\n",
    "    'dx': 10.0,\n",
    "    'dt': 0.5,\n",
    "    'u': 2.0,\n",
    "    'nu': 5.0,\n",
    "    'freq_euler': 15\n",
    "}\n",
    "\n",
    "nt = 1200\n",
    "freq_out = 15"
   ]
  },
  {
   "cell_type": "markdown",
   "metadata": {},
   "source": [
    "### [2] 外力項を与える関数の設定\n",
    "\n",
    "真値、シミュレーションの外力項はそれぞれ\n",
    "\\begin{align}\n",
    "W_{\\rm true}\\left(x, t\\right) &= \\left[\\sin \\frac{2\\pi t}{120} + q\\left(t\\right)\\right]\\sin\\frac{\\pi x}{60} \\\\\n",
    "W_{\\rm sim}\\left(x, t\\right) &= \\sin \\frac{2\\pi t}{120} \\sin\\frac{\\pi x}{60}\n",
    "\\end{align}\n",
    "で計算する。$q\\left(t\\right)$ は 7.5 秒ごとの値を乱数により与え、その間の時刻における値は線形補間により与える。"
   ]
  },
  {
   "cell_type": "code",
   "execution_count": null,
   "metadata": {},
   "outputs": [],
   "source": [
    "# 乱数データの生成\n",
    "frc_noise = np.random.normal(loc=0.0, scale=1.0, size=81)\n",
    "frc_noise.tofile('./data/noise/noise_frc.dat')\n",
    "print('Avg.: {:>5.3f}'.format(np.mean(frc_noise)))\n",
    "print('Std.: {:>5.3f}'.format(np.std(frc_noise)))"
   ]
  },
  {
   "cell_type": "code",
   "execution_count": null,
   "metadata": {
    "scrolled": true
   },
   "outputs": [],
   "source": [
    "# 外力項を与える関数の設定\n",
    "# 時刻を引数として呼び出すと各格子点における外力の値を返す\n",
    "x = np.arange(params['nx']) * params['dx']\n",
    "t = np.arange(81) * params['dt'] * 15\n",
    "\n",
    "#\n",
    "frc_x = np.sin(np.pi * x / 60.) * np.where(x < 60., 1.,  0.)\n",
    "frc_n = interpolate.interp1d(t, frc_noise, kind='linear')\n",
    "frc_sim  = lambda t: np.sin(2. * np.pi * t / 120.) * frc_x\n",
    "frc_true = lambda t: (np.sin(2. * np.pi * t / 120.) + frc_n(t)) * frc_x"
   ]
  },
  {
   "cell_type": "markdown",
   "metadata": {},
   "source": [
    "### [3] 真値の計算"
   ]
  },
  {
   "cell_type": "code",
   "execution_count": null,
   "metadata": {},
   "outputs": [],
   "source": [
    "nt = 1200\n",
    "freq_out = 15\n",
    "fmt_out = '%8.3f' * params['nx']\n",
    "\n",
    "model = advdiff.Model(**params)\n",
    "\n",
    "vt = [model.data]\n",
    "\n",
    "for it in range(nt):\n",
    "    _t = it * model.dt\n",
    "    model.step_forward(force=frc_true(_t))\n",
    "    if model.it % freq_out == 0:\n",
    "        vt.append(model.data)\n",
    "\n",
    "vt = np.array(vt)\n",
    "\n",
    "np.savetxt('./data/state_true.dat', vt, fmt='%8.3f')"
   ]
  },
  {
   "cell_type": "markdown",
   "metadata": {},
   "source": [
    "### [4] シミュレーションの計算"
   ]
  },
  {
   "cell_type": "code",
   "execution_count": null,
   "metadata": {},
   "outputs": [],
   "source": [
    "nt = 1200\n",
    "freq_out = 15\n",
    "fmt_out = '%8.3f' * params['nx']\n",
    "\n",
    "model = advdiff.Model(**params)\n",
    "\n",
    "vs = [model.data]\n",
    "\n",
    "for it in range(nt):\n",
    "    _t = it * model.dt\n",
    "    model.step_forward(force=frc_sim(_t))\n",
    "    if model.it % freq_out == 0:\n",
    "        vs.append(model.data)\n",
    "\n",
    "vs = np.array(vs)\n",
    "\n",
    "np.savetxt('./data/state_sim.dat', vs, fmt='%8.3f')"
   ]
  },
  {
   "cell_type": "markdown",
   "metadata": {},
   "source": [
    "### [5] 疑似観測データの生成"
   ]
  },
  {
   "cell_type": "code",
   "execution_count": null,
   "metadata": {},
   "outputs": [],
   "source": [
    "# 観測行列\n",
    "H = np.zeros((8,40))\n",
    "for i, j in enumerate([16, 18, 20, 22, 24, 26, 28, 30]):\n",
    "    H[i,j] = 1.0\n",
    "H @ model.x\n",
    "\n",
    "# 真値からの観測\n",
    "vo = vt[:,:] @ H.T\n",
    "\n",
    "# 観測ノイズ\n",
    "shape = vo.shape\n",
    "size = shape[0] * shape[1]\n",
    "obs_noise = np.random.normal(loc=0.0, scale=8.0, size=size).reshape(shape)\n",
    "obs_noise.tofile('./data/noise/noise_obs.dat')\n",
    "vo = vo + obs_noise\n",
    "np.savetxt('./data/state_obs.dat', vo, fmt='%8.3f')"
   ]
  },
  {
   "cell_type": "markdown",
   "metadata": {},
   "source": [
    "### [6] 描画"
   ]
  },
  {
   "cell_type": "code",
   "execution_count": null,
   "metadata": {},
   "outputs": [],
   "source": [
    "it = 30\n",
    "\n",
    "fig, ax = plt.subplots(figsize=(8,3))\n",
    "plt.plot(x, vt[it,:], 'o-', c='C0', lw=1.0, label='True')\n",
    "plt.plot(x, vs[it,:], 'o-', c='C1', lw=1.0, label='Simulation')\n",
    "plt.plot(x @ H.T, vo[it,:], '^', c='C2', label='Observation')\n",
    "plt.xlim(0, 400)\n",
    "plt.ylim(-40, 40)\n",
    "plt.xlabel(r'$x$ [km]')\n",
    "plt.ylabel(r'$C$')\n",
    "plt.legend(loc='lower right')\n",
    "plt.grid(ls='--', c='0.5', lw=0.3)\n",
    "plt.title(r'$t={:4.1f}$'.format(it * 7.5))\n",
    "plt.tight_layout()"
   ]
  }
 ],
 "metadata": {
  "kernelspec": {
   "display_name": "Python 3",
   "language": "python",
   "name": "python3"
  },
  "language_info": {
   "codemirror_mode": {
    "name": "ipython",
    "version": 3
   },
   "file_extension": ".py",
   "mimetype": "text/x-python",
   "name": "python",
   "nbconvert_exporter": "python",
   "pygments_lexer": "ipython3",
   "version": "3.6.6"
  }
 },
 "nbformat": 4,
 "nbformat_minor": 2
}
