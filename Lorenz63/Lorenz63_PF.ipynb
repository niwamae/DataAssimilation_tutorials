{
 "cells": [
  {
   "cell_type": "markdown",
   "metadata": {},
   "source": [
    "# データ同化実習(Lorenz63):粒子フィルタ\n",
    "本データ同化実習では、簡単なモデルを用いて、代表的なデータ同化手法がどのように働いているのかを確認する。\n",
    "このNotebookでは、Lorenz63modelを対象として、粒子フィルタによるデータ同化を行う。"
   ]
  },
  {
   "cell_type": "markdown",
   "metadata": {},
   "source": [
    "## Lorenz63model\n",
    "対象とするLorenz63モデルを以下のように定式化する。σ=10、r=28、b=8/3である。\n",
    "\n",
    "\\begin{align}\n",
    "\\frac{dx}{dt} &= -σ(x -  y) \\\\\n",
    "\\frac{dy}{dt} &= -y - xz + rx \\\\\n",
    "\\frac{dz}{dt} &= xy - bz\n",
    "\\end{align}"
   ]
  },
  {
   "cell_type": "markdown",
   "metadata": {},
   "source": [
    "## [1]ライブラリをインポートする\n",
    "* numpy:数値計算を効率的に実施するライブラリ\n",
    "* matplotlib:計算結果の可視化をするライブラリ\n",
    "* Lorenz63:Lorenz63modelの時間積分と接線形モデルの計算\n",
    "* GenerateEnsemble:初期のアンサンブルの生成\n",
    "* ParticleFilter:粒子フィルタの実施\n",
    "* Visualization:計算結果の可視化およびRMSEの計算"
   ]
  },
  {
   "cell_type": "code",
   "execution_count": null,
   "metadata": {},
   "outputs": [],
   "source": [
    "import numpy as np\n",
    "import matplotlib as mpl\n",
    "import matplotlib.pyplot as plt\n",
    "import Lorenz63\n",
    "import ParticleFilter\n",
    "import GenerateEnsemble\n",
    "import Visualization"
   ]
  },
  {
   "cell_type": "markdown",
   "metadata": {},
   "source": [
    "## [2]真値、観測値、誤った初期値からの計算を実施する\n",
    "本実習では双子実験を行う。双子実験とは，同化手法の動作を確認するために行う試行実験の一つである。ある初期値を仮に「真の初期値」とみなして数値実験を行い、その数値実験結果に誤差を加えたものを「観測値」と呼ぶ。そして，「誤った初期値」から始めた数値実験結果に「観測値」を同化することによって、「真の初期値」や「真の数値実験結果」が復元できれば、同化手法が（双子実験の枠組みの中でではあるが）有効であることがわかる。\n",
    "\n",
    "そこで、このNotebookでは、最初に真の初期値から計算した真値(True)、そこに誤差を加えた観測値(Obs.)、誤った初期値から計算した(Sim.)の3つについて、データ同化を実施する前に計算を行うこととする。\n",
    "\n",
    "#### 設定すべきパラメータについて\n",
    "* nt_asm:データ同化を実施する時間ステップ数\n",
    "* nt_prd:データ同化を実施しない予測ステップ数\n",
    "* noise:観測値に与える誤差の標準偏差\n",
    "* xt, yt, zt: 真の初期値\n",
    "* xsf, ysf, zsf: 誤った初期値\n",
    "\n",
    "#### 設定しても良いパラメータについて\n",
    "以下のパラメータは設定しなくても適切に計算されるように初期設定を与えている。もし変更したい場合は、__Lorenz63__関数を呼び出しているところで、引数に追加することで変更可能。\n",
    "* dt:時間積分のタイムステップ(default=0.01)\n",
    "* s:σ(default=10.0)\n",
    "* r:r(default=28.0)\n",
    "* b:b(default=8/3)"
   ]
  },
  {
   "cell_type": "code",
   "execution_count": null,
   "metadata": {},
   "outputs": [],
   "source": [
    "#time step\n",
    "nt_asm = 1000\n",
    "nt_prd = 1000\n",
    "\n",
    "#Observation noise\n",
    "noise = 0.1 #standard deviation\n",
    "\n",
    "#Initial condition\n",
    "xt = 10.0; yt = 14.0; zt = 24.0 # #True\n",
    "xsf = 11.0; ysf = 13.0; zsf = 25.0  #Simulation\n",
    "\n",
    "#For Visuallization\n",
    "xtrue = [xt];ytrue = [yt]; ztrue = [zt] #True for visualization\n",
    "xobs = [xt];yobs = [yt];zobs = [zt] #Observation for visualization\n",
    "xsim = [xsf]; ysim = [ysf]; zsim = [zsf] #Simulation for visualization\n",
    "xs = xsf; ys = ysf; zs = zsf\n",
    "\n",
    "for t in range(nt_asm + nt_prd):\n",
    "    #True,Observation and Simulation\n",
    "    lorenz = Lorenz63.Lorenz63(xt,yt,zt,noise)\n",
    "    xt, yt, zt = lorenz.time_integration()\n",
    "    xo, yo, zo = lorenz.observation_noise()\n",
    "    \n",
    "    #Simulation\n",
    "    lorenz = Lorenz63.Lorenz63(xs,ys,zs,noise)\n",
    "    xs, ys, zs = lorenz.time_integration()\n",
    "    \n",
    "    #visualization\n",
    "    xtrue.append(xt);ytrue.append(yt);ztrue.append(zt)\n",
    "    xobs.append(xo);yobs.append(yo);zobs.append(zo)\n",
    "    xsim.append(xs);ysim.append(ys);zsim.append(zs)\n",
    "\n",
    "xtrue = np.array(xtrue)\n",
    "xsim = np.array(xsim)\n",
    "xobs = np.array(xobs)"
   ]
  },
  {
   "cell_type": "code",
   "execution_count": null,
   "metadata": {},
   "outputs": [],
   "source": [
    "fig, ax = plt.subplots(figsize=(10,3))\n",
    "it = np.arange(nt_asm + nt_prd + 1)\n",
    "t = it * lorenz.dt\n",
    "mask_obs = (it % 100 == 0) & (it < nt_asm) & (it > 0)\n",
    "plt.plot(t, xtrue, '-', c='C0', label='True')\n",
    "plt.plot(t, xsim, '-', c='C1', label='Simulation')\n",
    "plt.plot(t[mask_obs], xobs[mask_obs], '^', c='C2', label='Observation')\n",
    "plt.xlim(t.min(), t.max())\n",
    "plt.legend()\n",
    "plt.show()"
   ]
  },
  {
   "cell_type": "markdown",
   "metadata": {},
   "source": [
    "## [3]データ同化を実施する\n",
    "\n",
    "### 1) 粒子フィルタ\n",
    "\n",
    "#### 設定すべきパラメータについて\n",
    "* obs_interval:データ同化の間隔ステップ数\n",
    "* nens:粒子の数\n",
    "* H: 観測行列"
   ]
  },
  {
   "cell_type": "code",
   "execution_count": null,
   "metadata": {},
   "outputs": [],
   "source": [
    "obs_interval = 100\n",
    "it = np.arange(nt_asm + nt_prd + 1, dtype=np.int64)\n",
    "mask_obs = (it > 0) & (it < nt_asm) & (it % obs_interval == 0)\n",
    "\n",
    "# 観測行列\n",
    "H = np.array([1,0,0]).reshape(1,3)\n",
    "\n",
    "xda = [xsf];yda = [ysf];zda = [zsf] # Data Assimilation for visualization\n",
    "xs = xsf; ys = ysf; zs = zsf        # Simulation\n",
    "xyzsim = np.array([xs, ys, zs])\n",
    "\n",
    "nens = 1000\n",
    "initial_noise = 4.0\n",
    "generate =  GenerateEnsemble.GenerateEnsemble(xyzsim, nens, initial_noise)                                      \n",
    "ensemble = generate.fit()"
   ]
  },
  {
   "cell_type": "code",
   "execution_count": null,
   "metadata": {},
   "outputs": [],
   "source": [
    "# 粒子フィルタの動作を確認するため同化前後における粒子（Xの値のみ）を保存する。\n",
    "x_prior = []\n",
    "x_posterior = []"
   ]
  },
  {
   "cell_type": "code",
   "execution_count": null,
   "metadata": {},
   "outputs": [],
   "source": [
    "for t in range(nt_asm + nt_prd):\n",
    "    # Data Assimilation\n",
    "    for ens in range(nens):\n",
    "        lorenz = Lorenz63.Lorenz63(ensemble[ens,0], ensemble[ens,1], ensemble[ens,2], noise, None)\n",
    "        ensemble[ens,0], ensemble[ens,1], ensemble[ens,2] = lorenz.time_integration()\n",
    "\n",
    "    if mask_obs[t+1]:\n",
    "        xyzobs = np.array([xobs[t+1],yobs[t+1],zobs[t+1]])\n",
    "        pf = ParticleFilter.ParticleFilter(ensemble, H, xyzobs, 0.5)\n",
    "        update = pf.fit()\n",
    "        x_prior.append(ensemble[:,0].copy())\n",
    "        x_posterior.append(update[:,0].copy())\n",
    "        ensemble = update\n",
    "\n",
    "    xda.append(ensemble[:,0].mean())\n",
    "    yda.append(ensemble[:,1].mean())\n",
    "    zda.append(ensemble[:,2].mean())\n",
    "\n",
    "xda = np.array(xda)\n",
    "yda = np.array(yda)\n",
    "zda = np.array(zda)"
   ]
  },
  {
   "cell_type": "code",
   "execution_count": null,
   "metadata": {},
   "outputs": [],
   "source": [
    "fig, ax = plt.subplots(figsize=(10,3))\n",
    "t = it * lorenz.dt\n",
    "plt.plot(t, xtrue, '-', c='C0', label='True')\n",
    "plt.plot(t, xsim, '-', c='C1', label='Simulation')\n",
    "plt.plot(t[mask_obs], xobs[mask_obs], '^', c='C2', label='Observation')\n",
    "plt.plot(t, xda, '-', c='C3', label='DA')\n",
    "plt.xlim(t.min(), t.max())\n",
    "plt.legend()\n",
    "plt.show()"
   ]
  },
  {
   "cell_type": "code",
   "execution_count": null,
   "metadata": {},
   "outputs": [],
   "source": [
    "obs = xobs[mask_obs]\n",
    "\n",
    "fig, axs = plt.subplots(nrows=2, figsize=(6,8), sharex=True, sharey=True)\n",
    "\n",
    "i = 0\n",
    "axs[0].hist(x_prior[i], density=True, fc='#AEC7E8', label='Prior')\n",
    "axs[1].hist(x_posterior[i], density=True, fc='#FFBB78', label='Posterior')\n",
    "axs[0].axvline(x=obs[i], ls='--', c='C3', lw=2.0, label='Observation')\n",
    "axs[1].axvline(x=obs[i], ls='--', c='C3', lw=2.0, label='Observation')\n",
    "axs[1].set_xlabel(r'$x$')\n",
    "\n",
    "for ax in axs:\n",
    "    ax.set_ylabel('probability density')\n",
    "    ax.legend(loc='upper right')\n",
    "    ax.grid(ls='--', c='k', lw=0.5, dashes=(3,2))\n",
    "\n",
    "plt.tight_layout()\n",
    "plt.show()"
   ]
  },
  {
   "cell_type": "markdown",
   "metadata": {},
   "source": [
    "### 2) 融合粒子フィルタ\n",
    "\n",
    "#### 概要\n",
    "\n",
    "#### 設定すべきパラメータについて\n",
    "* obs_interval:データ同化の間隔ステップ数\n",
    "* nens:粒子の数\n",
    "* H: 観測行列"
   ]
  },
  {
   "cell_type": "code",
   "execution_count": null,
   "metadata": {},
   "outputs": [],
   "source": [
    "obs_interval = 100\n",
    "mask_obs = (it > 0) & (it < nt_asm) & (it % obs_interval == 0)\n",
    "\n",
    "H = np.array([1,0,0]).reshape(1,3)\n",
    "\n",
    "xda = [xsf];yda = [ysf];zda = [zsf] # Data Assimilation for visualization\n",
    "xs = xsf; ys = ysf; zs = zsf        # Simulation\n",
    "xyzsim = np.array([xs, ys, zs])\n",
    "\n",
    "nens = 1000\n",
    "initial_noise = 4.0\n",
    "generate =  GenerateEnsemble.GenerateEnsemble(xyzsim, nens, initial_noise)                                      \n",
    "ensemble = generate.fit()"
   ]
  },
  {
   "cell_type": "code",
   "execution_count": null,
   "metadata": {},
   "outputs": [],
   "source": [
    "x_prior = []\n",
    "x_posterior = []"
   ]
  },
  {
   "cell_type": "code",
   "execution_count": null,
   "metadata": {},
   "outputs": [],
   "source": [
    "for t in range(nt_asm + nt_prd):\n",
    "    # Data Assimilation\n",
    "    for ens in range(nens):\n",
    "        lorenz = Lorenz63.Lorenz63(ensemble[ens,0], ensemble[ens,1], ensemble[ens,2], noise, None)\n",
    "        ensemble[ens,0], ensemble[ens,1], ensemble[ens,2] = lorenz.time_integration()\n",
    "\n",
    "    if mask_obs[t+1]:\n",
    "        xyzobs = np.array([xobs[t+1],yobs[t+1],zobs[t+1]])\n",
    "        pf = ParticleFilter.MergingParticleFilter(ensemble, H, xyzobs, 0.5)\n",
    "        update = pf.fit()\n",
    "        x_prior.append(ensemble[:,0].copy())\n",
    "        x_posterior.append(update[:,0].copy())\n",
    "        ensemble = update\n",
    "\n",
    "    xda.append(ensemble[:,0].mean())\n",
    "    yda.append(ensemble[:,1].mean())\n",
    "    zda.append(ensemble[:,2].mean())\n",
    "\n",
    "xda = np.array(xda)\n",
    "yda = np.array(yda)\n",
    "zda = np.array(zda)"
   ]
  },
  {
   "cell_type": "code",
   "execution_count": null,
   "metadata": {},
   "outputs": [],
   "source": [
    "fig, ax = plt.subplots(figsize=(10,3))\n",
    "it = np.arange(nt_asm + nt_prd + 1)\n",
    "t = it * lorenz.dt\n",
    "mask_obs = (it % 100 == 0) & (it < nt_asm) & (it > 0)\n",
    "plt.plot(t, xtrue, '-', c='C0', label='True')\n",
    "plt.plot(t, xsim, '-', c='C1', label='Simulation')\n",
    "plt.plot(t[mask_obs], xobs[mask_obs], '^', c='C2', label='Observation')\n",
    "plt.plot(t, xda, '-', c='C3', label='DA')\n",
    "plt.xlim(t.min(), t.max())\n",
    "plt.legend()\n",
    "plt.show()"
   ]
  },
  {
   "cell_type": "code",
   "execution_count": null,
   "metadata": {},
   "outputs": [],
   "source": [
    "obs = xobs[mask_obs]\n",
    "\n",
    "fig, axs = plt.subplots(nrows=2, figsize=(6,8), sharex=True, sharey=True)\n",
    "\n",
    "i = 0\n",
    "axs[0].hist(x_prior[i], density=True, fc='#AEC7E8', label='Prior')\n",
    "axs[1].hist(x_posterior[i], density=True, fc='#FFBB78', label='Posterior')\n",
    "axs[0].axvline(x=obs[i], ls='--', c='C3', lw=2.0, label='Observation')\n",
    "axs[1].axvline(x=obs[i], ls='--', c='C3', lw=2.0, label='Observation')\n",
    "axs[1].set_xlabel(r'$x$')\n",
    "\n",
    "for ax in axs:\n",
    "    ax.set_ylabel('probability density')\n",
    "    ax.legend(loc='upper right')\n",
    "    ax.grid(ls='--', c='k', lw=0.5, dashes=(3,2))\n",
    "\n",
    "plt.tight_layout()\n",
    "plt.show()"
   ]
  }
 ],
 "metadata": {
  "kernelspec": {
   "display_name": "Python 3",
   "language": "python",
   "name": "python3"
  },
  "language_info": {
   "codemirror_mode": {
    "name": "ipython",
    "version": 3
   },
   "file_extension": ".py",
   "mimetype": "text/x-python",
   "name": "python",
   "nbconvert_exporter": "python",
   "pygments_lexer": "ipython3",
   "version": "3.6.6"
  }
 },
 "nbformat": 4,
 "nbformat_minor": 2
}
